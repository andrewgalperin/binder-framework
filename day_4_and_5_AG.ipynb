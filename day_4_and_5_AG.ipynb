{
 "cells": [
  {
   "cell_type": "code",
   "execution_count": 2,
   "metadata": {},
   "outputs": [],
   "source": [
    "import numpy as np\n",
    "import pandas as pd\n",
    "import matplotlib.pyplot as plt\n",
    "import seaborn as sns"
   ]
  },
  {
   "cell_type": "code",
   "execution_count": 3,
   "metadata": {},
   "outputs": [],
   "source": [
    "df = pd.read_csv(\"Value_of_Energy_Cost_Savings_Program_Savings_for_Businesses_-_FY2020.csv\")"
   ]
  },
  {
   "cell_type": "code",
   "execution_count": 4,
   "metadata": {},
   "outputs": [
    {
     "data": {
      "text/plain": [
       "(450, 26)"
      ]
     },
     "execution_count": 4,
     "metadata": {},
     "output_type": "execute_result"
    }
   ],
   "source": [
    "df.shape"
   ]
  },
  {
   "cell_type": "code",
   "execution_count": 5,
   "metadata": {},
   "outputs": [
    {
     "name": "stdout",
     "output_type": "stream",
     "text": [
      "<class 'pandas.core.frame.DataFrame'>\n",
      "RangeIndex: 450 entries, 0 to 449\n",
      "Data columns (total 26 columns):\n",
      " #   Column                                     Non-Null Count  Dtype  \n",
      "---  ------                                     --------------  -----  \n",
      " 0   Company Name                               450 non-null    object \n",
      " 1   company contact                            450 non-null    object \n",
      " 2   company email                              433 non-null    object \n",
      " 3   company phone                              450 non-null    object \n",
      " 4   Address                                    450 non-null    object \n",
      " 5   City                                       450 non-null    object \n",
      " 6   State                                      450 non-null    object \n",
      " 7   Postcode                                   450 non-null    int64  \n",
      " 8   Industry                                   450 non-null    object \n",
      " 9   Industry descr                             434 non-null    object \n",
      " 10  Company Type                               450 non-null    object \n",
      " 11  Current fulltime                           446 non-null    float64\n",
      " 12  Job created                                11 non-null     float64\n",
      " 13  Job retain                                 14 non-null     float64\n",
      " 14  Effective Date                             450 non-null    object \n",
      " 15  Total Savings                              450 non-null    float64\n",
      " 16  Savings from beginning receiving benefits  450 non-null    float64\n",
      " 17  Borough                                    450 non-null    object \n",
      " 18  Latitude                                   409 non-null    float64\n",
      " 19  Longitude                                  409 non-null    float64\n",
      " 20  Community Board                            409 non-null    float64\n",
      " 21  Council District                           409 non-null    float64\n",
      " 22  Census Tract                               409 non-null    float64\n",
      " 23  BIN                                        401 non-null    float64\n",
      " 24  BBL                                        401 non-null    float64\n",
      " 25  NTA                                        409 non-null    object \n",
      "dtypes: float64(12), int64(1), object(13)\n",
      "memory usage: 91.5+ KB\n"
     ]
    }
   ],
   "source": [
    "df.info()"
   ]
  },
  {
   "cell_type": "code",
   "execution_count": 6,
   "metadata": {},
   "outputs": [
    {
     "data": {
      "text/html": [
       "<div>\n",
       "<style scoped>\n",
       "    .dataframe tbody tr th:only-of-type {\n",
       "        vertical-align: middle;\n",
       "    }\n",
       "\n",
       "    .dataframe tbody tr th {\n",
       "        vertical-align: top;\n",
       "    }\n",
       "\n",
       "    .dataframe thead th {\n",
       "        text-align: right;\n",
       "    }\n",
       "</style>\n",
       "<table border=\"1\" class=\"dataframe\">\n",
       "  <thead>\n",
       "    <tr style=\"text-align: right;\">\n",
       "      <th></th>\n",
       "      <th>Company Name</th>\n",
       "      <th>company contact</th>\n",
       "      <th>company email</th>\n",
       "      <th>company phone</th>\n",
       "      <th>Address</th>\n",
       "      <th>City</th>\n",
       "      <th>State</th>\n",
       "      <th>Postcode</th>\n",
       "      <th>Industry</th>\n",
       "      <th>Industry descr</th>\n",
       "      <th>...</th>\n",
       "      <th>Savings from beginning receiving benefits</th>\n",
       "      <th>Borough</th>\n",
       "      <th>Latitude</th>\n",
       "      <th>Longitude</th>\n",
       "      <th>Community Board</th>\n",
       "      <th>Council District</th>\n",
       "      <th>Census Tract</th>\n",
       "      <th>BIN</th>\n",
       "      <th>BBL</th>\n",
       "      <th>NTA</th>\n",
       "    </tr>\n",
       "  </thead>\n",
       "  <tbody>\n",
       "    <tr>\n",
       "      <th>0</th>\n",
       "      <td>1 State Street</td>\n",
       "      <td>David Neiburg</td>\n",
       "      <td>eskoblo@energyspec.com</td>\n",
       "      <td>7186779077</td>\n",
       "      <td>1114 Avenue J</td>\n",
       "      <td>Brooklyn</td>\n",
       "      <td>NY</td>\n",
       "      <td>11230</td>\n",
       "      <td>Commercial</td>\n",
       "      <td>35 story building</td>\n",
       "      <td>...</td>\n",
       "      <td>349.78</td>\n",
       "      <td>Brooklyn</td>\n",
       "      <td>40.624784</td>\n",
       "      <td>-73.964920</td>\n",
       "      <td>314.0</td>\n",
       "      <td>44.0</td>\n",
       "      <td>534.0</td>\n",
       "      <td>3179818.0</td>\n",
       "      <td>3.067130e+09</td>\n",
       "      <td>Midwood</td>\n",
       "    </tr>\n",
       "    <tr>\n",
       "      <th>1</th>\n",
       "      <td>100 Church LLC</td>\n",
       "      <td>Edward A. Carroll</td>\n",
       "      <td>NaN</td>\n",
       "      <td>2125663000</td>\n",
       "      <td>100 Church Street</td>\n",
       "      <td>NY</td>\n",
       "      <td>NY</td>\n",
       "      <td>10007</td>\n",
       "      <td>Commercial</td>\n",
       "      <td>21 Floors</td>\n",
       "      <td>...</td>\n",
       "      <td>4423698.05</td>\n",
       "      <td>New York</td>\n",
       "      <td>40.712968</td>\n",
       "      <td>-74.009490</td>\n",
       "      <td>101.0</td>\n",
       "      <td>1.0</td>\n",
       "      <td>21.0</td>\n",
       "      <td>1001409.0</td>\n",
       "      <td>1.001250e+09</td>\n",
       "      <td>SoHo-TriBeCa-Civic Center-Little Italy</td>\n",
       "    </tr>\n",
       "    <tr>\n",
       "      <th>2</th>\n",
       "      <td>100 Wall Investments</td>\n",
       "      <td>Jerry Branam</td>\n",
       "      <td>NaN</td>\n",
       "      <td>2122487160</td>\n",
       "      <td>96 Wall Street</td>\n",
       "      <td>New York</td>\n",
       "      <td>NY</td>\n",
       "      <td>10005</td>\n",
       "      <td>Landlord</td>\n",
       "      <td>NaN</td>\n",
       "      <td>...</td>\n",
       "      <td>1814542.62</td>\n",
       "      <td>New York</td>\n",
       "      <td>40.705052</td>\n",
       "      <td>-74.007199</td>\n",
       "      <td>101.0</td>\n",
       "      <td>1.0</td>\n",
       "      <td>7.0</td>\n",
       "      <td>1000875.0</td>\n",
       "      <td>1.000380e+09</td>\n",
       "      <td>Battery Park City-Lower Manhattan</td>\n",
       "    </tr>\n",
       "  </tbody>\n",
       "</table>\n",
       "<p>3 rows × 26 columns</p>\n",
       "</div>"
      ],
      "text/plain": [
       "           Company Name    company contact           company email  \\\n",
       "0        1 State Street      David Neiburg  eskoblo@energyspec.com   \n",
       "1        100 Church LLC  Edward A. Carroll                     NaN   \n",
       "2  100 Wall Investments       Jerry Branam                     NaN   \n",
       "\n",
       "  company phone            Address      City State  Postcode    Industry  \\\n",
       "0    7186779077      1114 Avenue J  Brooklyn    NY     11230  Commercial   \n",
       "1    2125663000  100 Church Street        NY    NY     10007  Commercial   \n",
       "2    2122487160     96 Wall Street  New York    NY     10005    Landlord   \n",
       "\n",
       "      Industry descr  ... Savings from beginning receiving benefits   Borough  \\\n",
       "0  35 story building  ...                                    349.78  Brooklyn   \n",
       "1          21 Floors  ...                                4423698.05  New York   \n",
       "2                NaN  ...                                1814542.62  New York   \n",
       "\n",
       "    Latitude  Longitude Community Board  Council District  Census Tract  \\\n",
       "0  40.624784 -73.964920           314.0              44.0         534.0   \n",
       "1  40.712968 -74.009490           101.0               1.0          21.0   \n",
       "2  40.705052 -74.007199           101.0               1.0           7.0   \n",
       "\n",
       "         BIN           BBL                                     NTA  \n",
       "0  3179818.0  3.067130e+09                                 Midwood  \n",
       "1  1001409.0  1.001250e+09  SoHo-TriBeCa-Civic Center-Little Italy  \n",
       "2  1000875.0  1.000380e+09       Battery Park City-Lower Manhattan  \n",
       "\n",
       "[3 rows x 26 columns]"
      ]
     },
     "execution_count": 6,
     "metadata": {},
     "output_type": "execute_result"
    }
   ],
   "source": [
    "df.head(3)"
   ]
  },
  {
   "cell_type": "code",
   "execution_count": null,
   "metadata": {},
   "outputs": [],
   "source": [
    "\n",
    "\n",
    "\n",
    "\n"
   ]
  },
  {
   "cell_type": "markdown",
   "metadata": {},
   "source": [
    "# DAY 4"
   ]
  },
  {
   "cell_type": "code",
   "execution_count": 7,
   "metadata": {},
   "outputs": [
    {
     "name": "stdout",
     "output_type": "stream",
     "text": [
      "There are 439 unique companies represented in the dataset\n"
     ]
    }
   ],
   "source": [
    "# 1. How many different companies are represented in the data set?\n",
    "\n",
    "print(f\"There are {df['Company Name'].nunique()} unique companies represented in the dataset\")"
   ]
  },
  {
   "cell_type": "code",
   "execution_count": 8,
   "metadata": {},
   "outputs": [
    {
     "name": "stdout",
     "output_type": "stream",
     "text": [
      "There were 90 jobs created for businesses in Queens\n"
     ]
    }
   ],
   "source": [
    "# 2. What is the total number of jobs created for businesses in Queens?\n",
    "\n",
    "jobs_created_Queens = df.loc[df.City=='Queens', 'Job created'].sum().astype(int)\n",
    "print(f\"There were {jobs_created_Queens} jobs created for businesses in Queens\")"
   ]
  },
  {
   "cell_type": "code",
   "execution_count": 9,
   "metadata": {},
   "outputs": [
    {
     "name": "stdout",
     "output_type": "stream",
     "text": [
      "There are 357 unique email domain names in the data set\n"
     ]
    }
   ],
   "source": [
    "# 3. How many different unique email domain names are there in the data set?\n",
    "\n",
    "email_domains = df['company email'].str.split('@', expand=True).iloc[:, 1].nunique()\n",
    "print(f\"There are {email_domains} unique email domain names in the data set\")"
   ]
  },
  {
   "cell_type": "code",
   "execution_count": 10,
   "metadata": {},
   "outputs": [
    {
     "data": {
      "text/html": [
       "<div>\n",
       "<style scoped>\n",
       "    .dataframe tbody tr th:only-of-type {\n",
       "        vertical-align: middle;\n",
       "    }\n",
       "\n",
       "    .dataframe tbody tr th {\n",
       "        vertical-align: top;\n",
       "    }\n",
       "\n",
       "    .dataframe thead th {\n",
       "        text-align: right;\n",
       "    }\n",
       "</style>\n",
       "<table border=\"1\" class=\"dataframe\">\n",
       "  <thead>\n",
       "    <tr style=\"text-align: right;\">\n",
       "      <th></th>\n",
       "      <th>Average Savings</th>\n",
       "      <th>Total Jobs Created</th>\n",
       "    </tr>\n",
       "    <tr>\n",
       "      <th>NTA</th>\n",
       "      <th></th>\n",
       "      <th></th>\n",
       "    </tr>\n",
       "  </thead>\n",
       "  <tbody>\n",
       "    <tr>\n",
       "      <th>Battery Park City-Lower Manhattan</th>\n",
       "      <td>469890.796667</td>\n",
       "      <td>0</td>\n",
       "    </tr>\n",
       "    <tr>\n",
       "      <th>Queensbridge-Ravenswood-Long Island City</th>\n",
       "      <td>61830.770625</td>\n",
       "      <td>0</td>\n",
       "    </tr>\n",
       "    <tr>\n",
       "      <th>DUMBO-Vinegar Hill-Downtown Brooklyn-Boerum Hill</th>\n",
       "      <td>59950.340000</td>\n",
       "      <td>0</td>\n",
       "    </tr>\n",
       "    <tr>\n",
       "      <th>East New York</th>\n",
       "      <td>48433.093333</td>\n",
       "      <td>15</td>\n",
       "    </tr>\n",
       "    <tr>\n",
       "      <th>Hunts Point</th>\n",
       "      <td>39246.016154</td>\n",
       "      <td>12</td>\n",
       "    </tr>\n",
       "    <tr>\n",
       "      <th>SoHo-TriBeCa-Civic Center-Little Italy</th>\n",
       "      <td>37214.024000</td>\n",
       "      <td>0</td>\n",
       "    </tr>\n",
       "    <tr>\n",
       "      <th>Bushwick South</th>\n",
       "      <td>26140.455000</td>\n",
       "      <td>10</td>\n",
       "    </tr>\n",
       "    <tr>\n",
       "      <th>Carroll Gardens-Columbia Street-Red Hook</th>\n",
       "      <td>24337.390000</td>\n",
       "      <td>0</td>\n",
       "    </tr>\n",
       "    <tr>\n",
       "      <th>Hunters Point-Sunnyside-West Maspeth</th>\n",
       "      <td>23931.398933</td>\n",
       "      <td>0</td>\n",
       "    </tr>\n",
       "    <tr>\n",
       "      <th>Mott Haven-Port Morris</th>\n",
       "      <td>17843.937857</td>\n",
       "      <td>10</td>\n",
       "    </tr>\n",
       "    <tr>\n",
       "      <th>Springfield Gardens South-Brookville</th>\n",
       "      <td>17757.662000</td>\n",
       "      <td>0</td>\n",
       "    </tr>\n",
       "    <tr>\n",
       "      <th>College Point</th>\n",
       "      <td>17159.372857</td>\n",
       "      <td>2</td>\n",
       "    </tr>\n",
       "    <tr>\n",
       "      <th>park-cemetery-etc-Brooklyn</th>\n",
       "      <td>14327.419333</td>\n",
       "      <td>0</td>\n",
       "    </tr>\n",
       "    <tr>\n",
       "      <th>Sunset Park West</th>\n",
       "      <td>14316.976875</td>\n",
       "      <td>0</td>\n",
       "    </tr>\n",
       "    <tr>\n",
       "      <th>East Williamsburg</th>\n",
       "      <td>13990.626364</td>\n",
       "      <td>0</td>\n",
       "    </tr>\n",
       "    <tr>\n",
       "      <th>Steinway</th>\n",
       "      <td>11227.155714</td>\n",
       "      <td>20</td>\n",
       "    </tr>\n",
       "    <tr>\n",
       "      <th>Greenpoint</th>\n",
       "      <td>9753.649286</td>\n",
       "      <td>0</td>\n",
       "    </tr>\n",
       "    <tr>\n",
       "      <th>Maspeth</th>\n",
       "      <td>6658.283333</td>\n",
       "      <td>10</td>\n",
       "    </tr>\n",
       "    <tr>\n",
       "      <th>Crown Heights North</th>\n",
       "      <td>4036.298889</td>\n",
       "      <td>0</td>\n",
       "    </tr>\n",
       "    <tr>\n",
       "      <th>Manhattanville</th>\n",
       "      <td>2760.888889</td>\n",
       "      <td>0</td>\n",
       "    </tr>\n",
       "  </tbody>\n",
       "</table>\n",
       "</div>"
      ],
      "text/plain": [
       "                                                  Average Savings  \\\n",
       "NTA                                                                 \n",
       "Battery Park City-Lower Manhattan                   469890.796667   \n",
       "Queensbridge-Ravenswood-Long Island City             61830.770625   \n",
       "DUMBO-Vinegar Hill-Downtown Brooklyn-Boerum Hill     59950.340000   \n",
       "East New York                                        48433.093333   \n",
       "Hunts Point                                          39246.016154   \n",
       "SoHo-TriBeCa-Civic Center-Little Italy               37214.024000   \n",
       "Bushwick South                                       26140.455000   \n",
       "Carroll Gardens-Columbia Street-Red Hook             24337.390000   \n",
       "Hunters Point-Sunnyside-West Maspeth                 23931.398933   \n",
       "Mott Haven-Port Morris                               17843.937857   \n",
       "Springfield Gardens South-Brookville                 17757.662000   \n",
       "College Point                                        17159.372857   \n",
       "park-cemetery-etc-Brooklyn                           14327.419333   \n",
       "Sunset Park West                                     14316.976875   \n",
       "East Williamsburg                                    13990.626364   \n",
       "Steinway                                             11227.155714   \n",
       "Greenpoint                                            9753.649286   \n",
       "Maspeth                                               6658.283333   \n",
       "Crown Heights North                                   4036.298889   \n",
       "Manhattanville                                        2760.888889   \n",
       "\n",
       "                                                  Total Jobs Created  \n",
       "NTA                                                                   \n",
       "Battery Park City-Lower Manhattan                                  0  \n",
       "Queensbridge-Ravenswood-Long Island City                           0  \n",
       "DUMBO-Vinegar Hill-Downtown Brooklyn-Boerum Hill                   0  \n",
       "East New York                                                     15  \n",
       "Hunts Point                                                       12  \n",
       "SoHo-TriBeCa-Civic Center-Little Italy                             0  \n",
       "Bushwick South                                                    10  \n",
       "Carroll Gardens-Columbia Street-Red Hook                           0  \n",
       "Hunters Point-Sunnyside-West Maspeth                               0  \n",
       "Mott Haven-Port Morris                                            10  \n",
       "Springfield Gardens South-Brookville                               0  \n",
       "College Point                                                      2  \n",
       "park-cemetery-etc-Brooklyn                                         0  \n",
       "Sunset Park West                                                   0  \n",
       "East Williamsburg                                                  0  \n",
       "Steinway                                                          20  \n",
       "Greenpoint                                                         0  \n",
       "Maspeth                                                           10  \n",
       "Crown Heights North                                                0  \n",
       "Manhattanville                                                     0  "
      ]
     },
     "execution_count": 10,
     "metadata": {},
     "output_type": "execute_result"
    }
   ],
   "source": [
    "# 4. Considering only NTAs with at least 5 listed businesses, what is the average total savings and the total jobs created for each NTA?\n",
    "\n",
    "NTA_companies = df.groupby('NTA')['Company Name'].nunique().sort_values(ascending=False)\n",
    "large_NTAs = NTA_companies[NTA_companies>=5].index.tolist()\n",
    "large_NTAs_filter = df.NTA.isin(large_NTAs)\n",
    "df_savings_jobs = df[large_NTAs_filter].groupby('NTA').agg({'Total Savings':'mean', 'Job created':sum}) \\\n",
    "                    .sort_values('Total Savings', ascending=False)\n",
    "df_savings_jobs.columns = ['Average Savings', 'Total Jobs Created']\n",
    "df_savings_jobs['Total Jobs Created'] = df_savings_jobs['Total Jobs Created'].astype(int)\n",
    "df_savings_jobs"
   ]
  },
  {
   "cell_type": "code",
   "execution_count": 11,
   "metadata": {},
   "outputs": [],
   "source": [
    "# 5. Save your result for the previous question as a CSV file.\n",
    "\n",
    "df_savings_jobs.to_csv(\"top_NTAs_savings_jobs.csv\", index=True)"
   ]
  },
  {
   "cell_type": "code",
   "execution_count": null,
   "metadata": {},
   "outputs": [],
   "source": [
    "\n",
    "\n",
    "\n",
    "\n"
   ]
  },
  {
   "cell_type": "markdown",
   "metadata": {},
   "source": [
    "# DAY 5"
   ]
  },
  {
   "cell_type": "markdown",
   "metadata": {},
   "source": [
    "### Note: it's not totally clear in the instructions, but I assumed the visualizations are supposed to be based on the CSV we generated and saved on Day 4, rather than the raw dataset."
   ]
  },
  {
   "cell_type": "code",
   "execution_count": 12,
   "metadata": {},
   "outputs": [],
   "source": [
    "df_savings_jobs = pd.read_csv(\"top_NTAs_savings_jobs.csv\")"
   ]
  },
  {
   "cell_type": "code",
   "execution_count": 13,
   "metadata": {},
   "outputs": [
    {
     "data": {
      "image/png": "[encoded data removed]",
      "text/plain": [
       "<Figure size 432x288 with 2 Axes>"
      ]
     },
     "metadata": {
      "needs_background": "light"
     },
     "output_type": "display_data"
    }
   ],
   "source": [
    "# 1. scatter plot of jobs created versus average savings. Use both a standard and a logarithmic scale for the average savings.\n",
    "\n",
    "plt.subplot(1,2,1)\n",
    "sns.scatterplot(x='Total Jobs Created', y='Average Savings', data=df_savings_jobs)\n",
    "\n",
    "plt.subplot(1,2,2)\n",
    "ax = sns.scatterplot(x='Total Jobs Created', y='Average Savings', data=df_savings_jobs)\n",
    "ax.set(yscale=\"log\");"
   ]
  },
  {
   "cell_type": "code",
   "execution_count": 14,
   "metadata": {},
   "outputs": [
    {
     "data": {
      "image/png": "[encoded data removed]",
      "text/plain": [
       "<Figure size 432x288 with 1 Axes>"
      ]
     },
     "metadata": {
      "needs_background": "light"
     },
     "output_type": "display_data"
    }
   ],
   "source": [
    "# 2. histogram of the log of the average total savings.\n",
    "\n",
    "sns.histplot(df_savings_jobs['Average Savings'], log_scale=True);"
   ]
  },
  {
   "cell_type": "code",
   "execution_count": 17,
   "metadata": {},
   "outputs": [
    {
     "data": {
      "image/png": "[encoded data removed]",
      "text/plain": [
       "<Figure size 432x288 with 1 Axes>"
      ]
     },
     "metadata": {
      "needs_background": "light"
     },
     "output_type": "display_data"
    }
   ],
   "source": [
    "# 3. line plot of the total jobs created for each month.\n",
    "# Note: for this one, have to use the original CSV rather than the one I created for Day 4.\n",
    "\n",
    "df['Month'] = pd.to_datetime(df['Effective Date']).dt.month\n",
    "\n",
    "df_jobs_by_month = df.groupby('Month')['Job created'].sum().astype(int).reset_index()\n",
    "df_jobs_by_month.columns = ['Month', 'Total Jobs Created']\n",
    "\n",
    "month_dict = {1:'Jan', 2:'Feb', 3:'Mar', 4:'Apr', 5:'May', 6:'Jun',\n",
    "              7:'Jul', 8:'Aug', 9:'Sep', 10:'Oct', 11:'Nov', 12:'Dec'}\n",
    "\n",
    "df_jobs_by_month['Month'] = df_jobs_by_month.Month.map(month_dict)\n",
    "\n",
    "sns.lineplot(x='Month', y='Total Jobs Created', data=df_jobs_by_month)\n",
    "plt.ylim((-1,65));"
   ]
  }
 ],
 "metadata": {
  "kernelspec": {
   "display_name": "Python 3",
   "language": "python",
   "name": "python3"
  },
  "language_info": {
   "codemirror_mode": {
    "name": "ipython",
    "version": 3
   },
   "file_extension": ".py",
   "mimetype": "text/x-python",
   "name": "python",
   "nbconvert_exporter": "python",
   "pygments_lexer": "ipython3",
   "version": "3.7.6"
  }
 },
 "nbformat": 4,
 "nbformat_minor": 4
}
